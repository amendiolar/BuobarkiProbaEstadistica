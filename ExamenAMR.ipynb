{
 "cells": [
  {
   "cell_type": "markdown",
   "metadata": {},
   "source": [
    "EXAMEN PROBABILIDAD"
   ]
  },
  {
   "cell_type": "code",
   "execution_count": 1,
   "metadata": {},
   "outputs": [],
   "source": [
    "# Tratamiento de datos\n",
    "# ==============================================================================\n",
    "import numpy as np\n",
    "import pandas as pd\n",
    "\n",
    "# Gráficos\n",
    "# ==============================================================================\n",
    "import matplotlib.pyplot as plt\n",
    "%matplotlib inline\n",
    "plt.style.use('fivethirtyeight')\n",
    "from matplotlib_venn import venn2\n",
    "import seaborn as sns\n",
    "\n",
    "# Modelado y test estadísticos\n",
    "# ==============================================================================\n",
    "from statsmodels.distributions.empirical_distribution import ECDF\n",
    "from scipy.stats import ks_2samp\n",
    "import  random \n",
    "import itertools\n",
    "import math"
   ]
  },
  {
   "cell_type": "markdown",
   "metadata": {},
   "source": [
    "1. Supongamos que tomamos 10 post-its y en cada uno escribimos\n",
    "alguna de las letras de la palebra MATEMÁTICO. Si doblamos cada\n",
    "uno de los post-its y los metemos en una urna, ¿cuál es el espacio de\n",
    "probabilidad asociado a esta experiencia? ¿qué probabilidad hay de\n",
    "obtener la palabra matemático al sacar los diez post-its de manera\n",
    "aleatoria?"
   ]
  },
  {
   "cell_type": "markdown",
   "metadata": {},
   "source": [
    "La **definición matemática del espacio de probabilidad** esta dada por tres elementos\n",
    "\n",
    "- **Espacio muestral (Ω).**\n",
    "- **Espacio de eventos (ℱ).**\n",
    "- **La medida de probabilidad (P)**."
   ]
  },
  {
   "cell_type": "markdown",
   "metadata": {},
   "source": [
    "El espacio muestral consiste en el conjunto de todos los posibles resultados del experimento o fenómeno aleatorio."
   ]
  },
  {
   "cell_type": "code",
   "execution_count": 2,
   "metadata": {},
   "outputs": [
    {
     "data": {
      "text/plain": [
       "3628800"
      ]
     },
     "execution_count": 2,
     "metadata": {},
     "output_type": "execute_result"
    }
   ],
   "source": [
    "inp_list = ['M', 'A', 'T','E','M','a','T','I','C','O']\n",
    "permutations = list(itertools.permutations(inp_list))\n",
    "len(permutations)"
   ]
  },
  {
   "cell_type": "markdown",
   "metadata": {},
   "source": [
    "Se dividira entre factorial de 2 porque hay 2 \"M\", y nuevamente factorial de 2 porque hay 2 \"T\". Las \"A\" son diferentes porque una es acentuada y la otra no."
   ]
  },
  {
   "cell_type": "code",
   "execution_count": 3,
   "metadata": {},
   "outputs": [
    {
     "name": "stdout",
     "output_type": "stream",
     "text": [
      "El espacio muestral es 907200.0\n"
     ]
    }
   ],
   "source": [
    "PermutacionesConRepeticion = math.factorial(len(inp_list))/(math.factorial(2)*math.factorial(2))\n",
    "print(f\"El espacio muestral es {PermutacionesConRepeticion}\")"
   ]
  },
  {
   "cell_type": "markdown",
   "metadata": {},
   "source": [
    "La probabilidad de obtener MATEMaTICO seria (2/10)(1/9)(2/8)(1/7)(1/6)(1/5)(1/4)(1/3)(1/2) ya que la probabilidad de sacar una \"M\" al inicio es (2/10) porque hay 2 letras \"M\". Despues, obtener la letra \"A\" sin acento tiene una probabilidad de (1/9), y así sucesivamente."
   ]
  },
  {
   "cell_type": "code",
   "execution_count": 4,
   "metadata": {},
   "outputs": [
    {
     "name": "stdout",
     "output_type": "stream",
     "text": [
      "La probabilidad de obtener MATEMaTICO es de 1.1022927689594355e-06\n"
     ]
    }
   ],
   "source": [
    "probabilidad = (2/10)*(1/9)*(2/8)*(1/7)*(1/6)*(1/5)*(1/4)*(1/3)*(1/2)*(1/1)\n",
    "print(f\"La probabilidad de obtener MATEMaTICO es de {probabilidad}\")"
   ]
  },
  {
   "cell_type": "markdown",
   "metadata": {},
   "source": [
    "Entonces el espacio de eventos lo podemos calcular despejando E de la siguiente formula:"
   ]
  },
  {
   "cell_type": "markdown",
   "metadata": {},
   "source": [
    "P(E) = |E| / |Ω|\n",
    "\n",
    "P(E) = medida de probabilidad del evento (E).\n",
    "\n",
    "|E| = cardinalidad del evento, es decir, el numero de elementos del conjunto.\n",
    "\n",
    "|Ω| = cardinalidad del espacio muestral."
   ]
  },
  {
   "cell_type": "code",
   "execution_count": 5,
   "metadata": {},
   "outputs": [
    {
     "name": "stdout",
     "output_type": "stream",
     "text": [
      "La cardinalidad del evento es  0.9999999999999999\n"
     ]
    }
   ],
   "source": [
    "E = probabilidad * PermutacionesConRepeticion\n",
    "print(f\"La cardinalidad del evento es  {E}\")"
   ]
  },
  {
   "cell_type": "markdown",
   "metadata": {},
   "source": [
    "************************************************************************************************\n",
    "************************************************************************************************\n",
    "************************************************************************************************"
   ]
  },
  {
   "cell_type": "markdown",
   "metadata": {},
   "source": [
    "2. Generar la ley de probabilidad de las siguientes variables aleatorias:  \n",
    "a) El número que puede salir en la ruleta francesa (sólo tienen un cero).  \n",
    "b) El color que puede salir en la ruleta francesa.  \n",
    "c) Graficarlas"
   ]
  },
  {
   "cell_type": "markdown",
   "metadata": {},
   "source": [
    "Solución a)"
   ]
  },
  {
   "cell_type": "markdown",
   "metadata": {},
   "source": [
    "La ruleta francesa tiene 37 números, los números del 1 al 36 y el cero.  \n",
    "Los valores de la variable aleatoria son:"
   ]
  },
  {
   "cell_type": "code",
   "execution_count": 6,
   "metadata": {},
   "outputs": [
    {
     "data": {
      "text/plain": [
       "37"
      ]
     },
     "execution_count": 6,
     "metadata": {},
     "output_type": "execute_result"
    }
   ],
   "source": [
    "va = [0,1,2,3,4,5,6,7,8,9,10,11,12,13,14,15,16,17,18,19,20,21,22,23,24,25,26,27,28,29,30,31,32,33,34,35,36]\n",
    "len(va)"
   ]
  },
  {
   "cell_type": "markdown",
   "metadata": {},
   "source": [
    "Y cada numero tiene la misma probabilidad de salir, por lo que cada valor de la variable aleatoria tiene una probabilidad de (1/37)."
   ]
  },
  {
   "cell_type": "markdown",
   "metadata": {},
   "source": [
    "Entonces la ley de probabilidad en este caso es:  \n",
    "f(x) = P(X=x)= 1/37"
   ]
  },
  {
   "cell_type": "code",
   "execution_count": 7,
   "metadata": {},
   "outputs": [
    {
     "name": "stdout",
     "output_type": "stream",
     "text": [
      "    Variable Aleatoria  Probabilidad\n",
      "0                    0      0.027027\n",
      "1                    1      0.027027\n",
      "2                    2      0.027027\n",
      "3                    3      0.027027\n",
      "4                    4      0.027027\n",
      "5                    5      0.027027\n",
      "6                    6      0.027027\n",
      "7                    7      0.027027\n",
      "8                    8      0.027027\n",
      "9                    9      0.027027\n",
      "10                  10      0.027027\n",
      "11                  11      0.027027\n",
      "12                  12      0.027027\n",
      "13                  13      0.027027\n",
      "14                  14      0.027027\n",
      "15                  15      0.027027\n",
      "16                  16      0.027027\n",
      "17                  17      0.027027\n",
      "18                  18      0.027027\n",
      "19                  19      0.027027\n",
      "20                  20      0.027027\n",
      "21                  21      0.027027\n",
      "22                  22      0.027027\n",
      "23                  23      0.027027\n",
      "24                  24      0.027027\n",
      "25                  25      0.027027\n",
      "26                  26      0.027027\n",
      "27                  27      0.027027\n",
      "28                  28      0.027027\n",
      "29                  29      0.027027\n",
      "30                  30      0.027027\n",
      "31                  31      0.027027\n",
      "32                  32      0.027027\n",
      "33                  33      0.027027\n",
      "34                  34      0.027027\n",
      "35                  35      0.027027\n",
      "36                  36      0.027027\n"
     ]
    }
   ],
   "source": [
    "ruletaNumero = {\n",
    "  \"Variable Aleatoria\": [0,1,2,3,4,5,6,7,8,9,10,11,12,13,14,15,16,17,18,19,20,21,22,23,24,25,26,27,28,29,30,31,32,33,34,35,36],\n",
    "  \"Probabilidad\": [1/37,1/37,1/37,1/37,1/37,1/37,1/37,1/37,1/37,1/37,1/37,1/37,1/37,1/37,1/37,1/37,1/37,1/37,1/37,1/37,1/37,1/37,1/37,1/37,1/37,1/37,1/37,1/37,1/37,1/37,1/37,1/37,1/37,1/37,1/37,1/37,1/37,]\n",
    "}\n",
    "\n",
    "#load data into a DataFrame object:\n",
    "dfnumber = pd.DataFrame(ruletaNumero)\n",
    "dfnumber.to_csv('rnumber.csv')\n",
    "\n",
    "print(dfnumber) "
   ]
  },
  {
   "cell_type": "markdown",
   "metadata": {},
   "source": [
    "Solución b)"
   ]
  },
  {
   "cell_type": "markdown",
   "metadata": {},
   "source": [
    "Los colores que pueden salir son verde (el cero), negro y rojo. El verde solo puede salir una vez. Hay 18 negros y 18 rojos.  \n",
    "La función de probabilidad seria:"
   ]
  },
  {
   "cell_type": "markdown",
   "metadata": {},
   "source": [
    "f(verde) = P(X=verde) = 1/37  \n",
    "f(negro) = P(X=negro) = 18/37  \n",
    "f(rojo) = P(X=rojo) = 18/37"
   ]
  },
  {
   "cell_type": "code",
   "execution_count": 8,
   "metadata": {},
   "outputs": [
    {
     "name": "stdout",
     "output_type": "stream",
     "text": [
      "   Variable Aleatoria  Probabilidad\n",
      "0                  0v      0.027027\n",
      "1                  1r      0.486486\n",
      "2                  2n      0.486486\n",
      "3                  3r      0.486486\n",
      "4                  4n      0.486486\n",
      "5                  5r      0.486486\n",
      "6                  6n      0.486486\n",
      "7                  7r      0.486486\n",
      "8                  8n      0.486486\n",
      "9                  9r      0.486486\n",
      "10                10n      0.486486\n",
      "11                11n      0.486486\n",
      "12                12r      0.486486\n",
      "13                13n      0.486486\n",
      "14                14r      0.486486\n",
      "15                15n      0.486486\n",
      "16                16r      0.486486\n",
      "17                17n      0.486486\n",
      "18                18r      0.486486\n",
      "19                19r      0.486486\n",
      "20                20n      0.486486\n",
      "21                21r      0.486486\n",
      "22                22n      0.486486\n",
      "23                23r      0.486486\n",
      "24                24n      0.486486\n",
      "25                25r      0.486486\n",
      "26                26n      0.486486\n",
      "27                27r      0.486486\n",
      "28                28n      0.486486\n",
      "29                29n      0.486486\n",
      "30                30r      0.486486\n",
      "31                31n      0.486486\n",
      "32                32r      0.486486\n",
      "33                33n      0.486486\n",
      "34                34r      0.486486\n",
      "35                35n      0.486486\n",
      "36                36r      0.486486\n"
     ]
    }
   ],
   "source": [
    "ruletaColor = {\n",
    "  \"Variable Aleatoria\": [\"0v\",\"1r\",\"2n\",\"3r\",\"4n\",\"5r\",\"6n\",\"7r\",\"8n\",\"9r\",\"10n\",\"11n\",\"12r\",\"13n\",\"14r\",\"15n\",\"16r\",\"17n\",\"18r\",\"19r\",\"20n\",\"21r\",\"22n\",\"23r\",\"24n\",\"25r\",\"26n\",\"27r\",\"28n\",\"29n\",\"30r\",\"31n\",\"32r\",\"33n\",\"34r\",\"35n\",\"36r\"],\n",
    "  \"Probabilidad\": [1/37,18/37,18/37,18/37,18/37,18/37,18/37,18/37,18/37,18/37,18/37,18/37,18/37,18/37,18/37,18/37,18/37,18/37,18/37,18/37,18/37,18/37,18/37,18/37,18/37,18/37,18/37,18/37,18/37,18/37,18/37,18/37,18/37,18/37,18/37,18/37,18/37]\n",
    "}\n",
    "\n",
    "#load data into a DataFrame object:\n",
    "dfcolor = pd.DataFrame(ruletaColor)\n",
    "dfcolor.to_csv('rcolor.csv')\n",
    "\n",
    "print(dfcolor) "
   ]
  },
  {
   "cell_type": "markdown",
   "metadata": {},
   "source": [
    "Solucion c)"
   ]
  },
  {
   "cell_type": "markdown",
   "metadata": {},
   "source": [
    "Grafica del inciso a)"
   ]
  },
  {
   "cell_type": "code",
   "execution_count": 10,
   "metadata": {},
   "outputs": [
    {
     "data": {
      "image/png": "[encoded data removed]",
      "text/plain": [
       "<Figure size 432x288 with 1 Axes>"
      ]
     },
     "metadata": {
      "needs_background": "light"
     },
     "output_type": "display_data"
    }
   ],
   "source": [
    "rnumber = pd.read_csv(\"rnumber.csv\")\n",
    "my_plot = rnumber.plot(\"Variable Aleatoria\", \"Probabilidad\", kind=\"scatter\")\n",
    "plt.show() # no necesariamente en Jupyter Notebooks"
   ]
  },
  {
   "cell_type": "markdown",
   "metadata": {},
   "source": [
    "Grafica del inciso b)"
   ]
  },
  {
   "cell_type": "code",
   "execution_count": 11,
   "metadata": {},
   "outputs": [
    {
     "data": {
      "image/png": "[encoded data removed]",
      "text/plain": [
       "<Figure size 432x288 with 1 Axes>"
      ]
     },
     "metadata": {
      "needs_background": "light"
     },
     "output_type": "display_data"
    }
   ],
   "source": [
    "rcolor = pd.read_csv(\"rcolor.csv\")\n",
    "my_plot2 = rcolor.plot(\"Variable Aleatoria\", \"Probabilidad\", kind=\"scatter\")\n",
    "plt.show() # no necesariamente en Jupyter Notebooks"
   ]
  },
  {
   "cell_type": "markdown",
   "metadata": {},
   "source": [
    "************************************************************************************************\n",
    "************************************************************************************************\n",
    "************************************************************************************************"
   ]
  },
  {
   "cell_type": "markdown",
   "metadata": {},
   "source": [
    "3. Utilizando las probabilidades del ejercicio anterior evaluar si los siguientes eventos son dependientes o independientes  \n",
    "a) Obtener un numero impar,  \n",
    "b) Que sea de color negro.\n"
   ]
  },
  {
   "cell_type": "markdown",
   "metadata": {},
   "source": [
    "Solucion inciso a)"
   ]
  },
  {
   "cell_type": "markdown",
   "metadata": {},
   "source": [
    "El evento \"Obtener un numero impar\" es un evento independiente ya que podemos obtener un numero impar negro o rojo, con probabilidad de (18/37), tal como se muestra a continuación"
   ]
  },
  {
   "cell_type": "code",
   "execution_count": 17,
   "metadata": {},
   "outputs": [
    {
     "name": "stdout",
     "output_type": "stream",
     "text": [
      "La probabilidad de obtener un numero impar es 0.4864864864864865, esto equivale a (18/37)\n"
     ]
    }
   ],
   "source": [
    "'''\n",
    "RETOMANDO\n",
    "ruletaNumero = {\n",
    "  \"Variable Aleatoria\": [0,1,2,3,4,5,6,7,8,9,10,11,12,13,14,15,16,17,18,19,20,21,22,23,24,25,26,27,28,29,30,31,32,33,34,35,36],\n",
    "  \"Probabilidad\": [1/37,1/37,1/37,1/37,1/37,1/37,1/37,1/37,1/37,1/37,1/37,1/37,1/37,1/37,1/37,1/37,1/37,1/37,1/37,1/37,1/37,1/37,1/37,1/37,1/37,1/37,1/37,1/37,1/37,1/37,1/37,1/37,1/37,1/37,1/37,1/37,1/37,]\n",
    "}\n",
    "\n",
    "#load data into a DataFrame object:\n",
    "dfnumber = pd.DataFrame(ruletaNumero)\n",
    "dfnumber.to_csv('rnumber.csv')\n",
    "\n",
    "print(dfnumber) \n",
    "'''\n",
    "\n",
    "va = [0,1,2,3,4,5,6,7,8,9,10,11,12,13,14,15,16,17,18,19,20,21,22,23,24,25,26,27,28,29,30,31,32,33,34,35,36]\n",
    "par = []\n",
    "impar = []\n",
    "\n",
    "for elemento in va:\n",
    "  if elemento % 2 == 0:\n",
    "    par.append(elemento)\n",
    "  else:\n",
    "    impar.append(elemento)\n",
    "\n",
    "impar\n",
    "len(impar)\n",
    "\n",
    "probabilidadImpar = len(impar) * (1/37)\n",
    "\n",
    "print(f\"La probabilidad de obtener un numero impar es {probabilidadImpar}, esto equivale a (18/37)\")\n"
   ]
  },
  {
   "cell_type": "markdown",
   "metadata": {},
   "source": [
    "Solucion inciso b)"
   ]
  },
  {
   "cell_type": "markdown",
   "metadata": {},
   "source": [
    "La probabilidad de obtener color negro es independiente de si el numero es par o impar, ya que tenemos ambos numeros (pares e impares) en color negro. En este caso la probabilidad de obtener negro es 18/37, con un calculo similar al del inciso a)"
   ]
  },
  {
   "cell_type": "code",
   "execution_count": 20,
   "metadata": {},
   "outputs": [
    {
     "name": "stdout",
     "output_type": "stream",
     "text": [
      "La probabilidad de obtener negro es 0.4864864864864865, esto equivale a (18/37)\n"
     ]
    }
   ],
   "source": [
    "'''\n",
    "TOMADO COMO REFERENCIA\n",
    "ruletaColor = {\n",
    "  \"Variable Aleatoria\": [\"0v\",\"1r\",\"2n\",\"3r\",\"4n\",\"5r\",\"6n\",\"7r\",\"8n\",\"9r\",\"10n\",\"11n\",\"12r\",\"13n\",\"14r\",\"15n\",\"16r\",\"17n\",\"18r\",\"19r\",\"20n\",\"21r\",\"22n\",\"23r\",\"24n\",\"25r\",\"26n\",\"27r\",\"28n\",\"29n\",\"30r\",\"31n\",\"32r\",\"33n\",\"34r\",\"35n\",\"36r\"],\n",
    "  \"Probabilidad\": [1/37,18/37,18/37,18/37,18/37,18/37,18/37,18/37,18/37,18/37,18/37,18/37,18/37,18/37,18/37,18/37,18/37,18/37,18/37,18/37,18/37,18/37,18/37,18/37,18/37,18/37,18/37,18/37,18/37,18/37,18/37,18/37,18/37,18/37,18/37,18/37,18/37]\n",
    "}\n",
    "\n",
    "#load data into a DataFrame object:\n",
    "dfcolor = pd.DataFrame(ruletaColor)\n",
    "dfcolor.to_csv('rcolor.csv')\n",
    "\n",
    "print(dfcolor) \n",
    "'''\n",
    "\n",
    "vaC= [\"0v\",\"1r\",\"2n\",\"3r\",\"4n\",\"5r\",\"6n\",\"7r\",\"8n\",\"9r\",\"10n\",\"11n\",\"12r\",\"13n\",\"14r\",\"15n\",\"16r\",\"17n\",\"18r\",\"19r\",\"20n\",\"21r\",\"22n\",\"23r\",\"24n\",\"25r\",\"26n\",\"27r\",\"28n\",\"29n\",\"30r\",\"31n\",\"32r\",\"33n\",\"34r\",\"35n\",\"36r\"]\n",
    "vaN= []\n",
    "\n",
    "for elemento in vaC: \n",
    "    if \"n\" in elemento:\n",
    "      vaN.append(elemento)\n",
    "\n",
    "vaN\n",
    "len(vaN)\n",
    "\n",
    "probabilidadNegro = len(vaN) * (1/37)\n",
    "\n",
    "print(f\"La probabilidad de obtener negro es {probabilidadNegro}, esto equivale a (18/37)\")\n"
   ]
  },
  {
   "cell_type": "markdown",
   "metadata": {},
   "source": [
    "************************************************************************************************\n",
    "************************************************************************************************\n",
    "************************************************************************************************"
   ]
  },
  {
   "cell_type": "markdown",
   "metadata": {},
   "source": [
    "4.   \n",
    "a) Calcule la probabilidad condicional de obtener un número impar dado que salió el color negro P(A|B).  \n",
    "b) Calcule la probabilidad condicional de que el número sea negro, dado que salio un impar P(A|B).  \n",
    "c) Graficar P(−|B) en ambos casos."
   ]
  },
  {
   "cell_type": "markdown",
   "metadata": {},
   "source": [
    "Si tenemos un evento, que denominamos A, condicionado a otro evento, al cual denominamos B, la notación sería P(A|B) y la fórmula sería la siguiente:\n",
    "\n",
    "P(A|B)=P(A ∩ B)/P(B)\n",
    "\n",
    "Es decir, en la fórmula de arriba se lee que la probabilidad de que suceda A, dado que ha acontecido B, es igual a la probabilidad de que ocurra A y B, al mismo tiempo, entre la probabilidad de B.  \n",
    "  \n",
    "  Y además sabemos que P(A∩B) = P(A) × P(B)"
   ]
  },
  {
   "cell_type": "markdown",
   "metadata": {},
   "source": [
    "Solucion inciso a)"
   ]
  },
  {
   "cell_type": "markdown",
   "metadata": {},
   "source": [
    "La probabilidad de obtener un numero negro es 18/37, y la probabilidad de que de esos numeros sea impar es de 9/18  \n",
    "Aplicando la formulas tenemos que:  \n",
    "P(A|B)=P(A ∩ B)/P(B) = (18/37)(9/18)/(18/37) = 9 /18 = 0.5"
   ]
  },
  {
   "cell_type": "markdown",
   "metadata": {},
   "source": [
    "Solucion inciso b)"
   ]
  },
  {
   "cell_type": "markdown",
   "metadata": {},
   "source": [
    "La probabilidad de obtener un numero impar es 18/37, y la probabilidad de que de esos numeros sea negro es de 9/18  \n",
    "Aplicando la formulas tenemos que:  \n",
    "P(A|B)=P(A ∩ B)/P(B) = (18/37)(9/18)/(18/37) = 9 /18 = 0.5"
   ]
  },
  {
   "cell_type": "markdown",
   "metadata": {},
   "source": [
    "Solucion inciso c)"
   ]
  },
  {
   "cell_type": "code",
   "execution_count": 15,
   "metadata": {},
   "outputs": [
    {
     "data": {
      "image/png": "[encoded data removed]",
      "text/plain": [
       "<Figure size 432x288 with 1 Axes>"
      ]
     },
     "metadata": {},
     "output_type": "display_data"
    }
   ],
   "source": [
    "venn2((1, 1, 9/18))\n",
    "plt.show()"
   ]
  },
  {
   "cell_type": "markdown",
   "metadata": {},
   "source": [
    "************************************************************************************************\n",
    "************************************************************************************************\n",
    "************************************************************************************************"
   ]
  },
  {
   "cell_type": "markdown",
   "metadata": {},
   "source": [
    "5. Supongamos que deseamos segmentar a nuestros clientes en cinco\n",
    "clases distintas de acuerdo a tres rangos de compras: 10, 20, 30,\n",
    "40 y 50. Si tenemos una base de datos de tamaño 1000, definir las\n",
    "variables aleatorias correspondientes utilizando dos distribuciones\n",
    "de nuestros clientes distintas. Calcular la esperanza y la varianza\n",
    "correspondiente."
   ]
  },
  {
   "cell_type": "markdown",
   "metadata": {},
   "source": [
    "Solucion"
   ]
  },
  {
   "cell_type": "markdown",
   "metadata": {},
   "source": [
    "Considerando que la esperanza esta definida por:  \n",
    "μ=E(X)=∑xi⋅pi  \n",
    "Y la varianza por  \n",
    "Var(X) = ∑ (x-μ)^2 ⋅ f(x)  "
   ]
  },
  {
   "cell_type": "markdown",
   "metadata": {},
   "source": [
    "DISTRIBUCION 1"
   ]
  },
  {
   "cell_type": "code",
   "execution_count": 21,
   "metadata": {},
   "outputs": [
    {
     "name": "stdout",
     "output_type": "stream",
     "text": [
      "   Variable Aleatoria  Probabilidad\n",
      "0                  10           0.2\n",
      "1                  20           0.2\n",
      "2                  30           0.2\n",
      "3                  40           0.2\n",
      "4                  50           0.2\n"
     ]
    }
   ],
   "source": [
    "distribucion1 = {\n",
    "  \"Variable Aleatoria\": [10,20,30,40,50],\n",
    "  \"Probabilidad\": [0.2,0.2,0.2,0.2,0.2]\n",
    "}\n",
    "\n",
    "#load data into a DataFrame object:\n",
    "dfd1 = pd.DataFrame(distribucion1)\n",
    "dfd1.to_csv('dist1.csv')\n",
    "\n",
    "print(dfd1) "
   ]
  },
  {
   "cell_type": "code",
   "execution_count": 25,
   "metadata": {},
   "outputs": [
    {
     "name": "stdout",
     "output_type": "stream",
     "text": [
      "La esperanza de la primera distribucion es 30.0\n"
     ]
    }
   ],
   "source": [
    "vaD1 = [10,20,30,40,50]\n",
    "pD1 = [0.2,0.2,0.2,0.2,0.2]\n",
    "\n",
    "productD1 = np.multiply(vaD1,pD1)\n",
    "productD1\n",
    "\n",
    "esperanzaD1 = np.sum(productD1)\n",
    "esperanzaD1\n",
    "\n",
    "print(f\"La esperanza de la primera distribucion es {esperanzaD1}\")"
   ]
  },
  {
   "cell_type": "code",
   "execution_count": 28,
   "metadata": {},
   "outputs": [
    {
     "name": "stdout",
     "output_type": "stream",
     "text": [
      "La varianza de la primera distribucion es 200.0\n"
     ]
    }
   ],
   "source": [
    "varianzaD1 = sum((distribucion1['Variable Aleatoria']- esperanzaD1)**2 * distribucion1['Probabilidad']) \n",
    "varianzaD1\n",
    "\n",
    "print(f\"La varianza de la primera distribucion es {varianzaD1}\")"
   ]
  },
  {
   "cell_type": "markdown",
   "metadata": {},
   "source": [
    "DISTRIBUCION 2"
   ]
  },
  {
   "cell_type": "code",
   "execution_count": 31,
   "metadata": {},
   "outputs": [
    {
     "name": "stdout",
     "output_type": "stream",
     "text": [
      "   Variable Aleatoria  Probabilidad\n",
      "0                  10           0.1\n",
      "1                  20           0.2\n",
      "2                  30           0.4\n",
      "3                  40           0.2\n",
      "4                  50           0.1\n"
     ]
    }
   ],
   "source": [
    "distribucion2 = {\n",
    "  \"Variable Aleatoria\": [10,20,30,40,50],\n",
    "  \"Probabilidad\": [0.1,0.2,0.4,0.2,0.1]\n",
    "}\n",
    "\n",
    "#load data into a DataFrame object:\n",
    "dfd2 = pd.DataFrame(distribucion2)\n",
    "dfd2.to_csv('dist2.csv')\n",
    "\n",
    "print(dfd2) "
   ]
  },
  {
   "cell_type": "code",
   "execution_count": 29,
   "metadata": {},
   "outputs": [
    {
     "name": "stdout",
     "output_type": "stream",
     "text": [
      "La esperanza de la segunda distribucion es 30.0\n"
     ]
    }
   ],
   "source": [
    "vaD2 = [10,20,30,40,50]\n",
    "pD2 = [0.1,0.2,0.4,0.2,0.1]\n",
    "\n",
    "productD2 = np.multiply(vaD2,pD2)\n",
    "productD2\n",
    "\n",
    "esperanzaD2 = np.sum(productD2)\n",
    "esperanzaD2\n",
    "\n",
    "print(f\"La esperanza de la segunda distribucion es {esperanzaD2}\")"
   ]
  },
  {
   "cell_type": "code",
   "execution_count": 32,
   "metadata": {},
   "outputs": [
    {
     "name": "stdout",
     "output_type": "stream",
     "text": [
      "La varianza de la SEGUNDA distribucion es 120.0\n"
     ]
    }
   ],
   "source": [
    "varianzaD2 = sum((distribucion2['Variable Aleatoria']- esperanzaD2)**2 * distribucion2['Probabilidad']) \n",
    "varianzaD2\n",
    "\n",
    "print(f\"La varianza de la SEGUNDA distribucion es {varianzaD2}\")"
   ]
  },
  {
   "cell_type": "markdown",
   "metadata": {},
   "source": [
    "************************************************************************************************\n",
    "************************************************************************************************\n",
    "************************************************************************************************"
   ]
  },
  {
   "cell_type": "markdown",
   "metadata": {},
   "source": [
    "6. Enunciar en castellano (sin fórmulas) la ley de los grandes números\n",
    "y mencionar dos aplicaciones a la ciencia de datos."
   ]
  },
  {
   "cell_type": "markdown",
   "metadata": {},
   "source": [
    "Solución"
   ]
  },
  {
   "cell_type": "markdown",
   "metadata": {},
   "source": [
    "La ley de los grandes numeros incluye varios teoremas pero basicamente establece que si repetimos muchas veces (tendiendo al infinito) un mismo experimento, la frecuencia de que suceda un cierto evento tiende a ser una constante. Otra manera de explicarlo es decir que la media muestral se acerca a la media poblacional."
   ]
  },
  {
   "cell_type": "markdown",
   "metadata": {},
   "source": [
    "Ejemplo 1"
   ]
  },
  {
   "cell_type": "markdown",
   "metadata": {},
   "source": [
    "El Limite Hidrodinamico (LHD) es una Ley de los Grandes Numeros (LGN): los movimientos rapidos y las\n",
    "fuertes interacciones a nivel microscopico de una cantidad gigantesca\n",
    "de particulas, sufren un efecto promediante que elimina la aleatoriedad\n",
    "y las oscilaciones abruptas en el sistema macroscopico.  \n",
    "Lopez Ortega. (2015). Una version de la Ley de los Grandes Numeros: el Lımite Hidrodinamico. Miscelanea Matematica, 60, 77–89."
   ]
  },
  {
   "cell_type": "markdown",
   "metadata": {},
   "source": [
    "Ejemplo 2"
   ]
  },
  {
   "cell_type": "markdown",
   "metadata": {},
   "source": [
    "En el contexto empresarial  las tasas de crecimiento se ven convergentes a las tasas de crecimiento de la economía."
   ]
  },
  {
   "cell_type": "markdown",
   "metadata": {},
   "source": [
    "************************************************************************************************\n",
    "************************************************************************************************\n",
    "************************************************************************************************"
   ]
  },
  {
   "cell_type": "markdown",
   "metadata": {},
   "source": [
    "7. Elegir un fenómeno aleatorio, para el que exista conocimiento sobre\n",
    "su distribución de probabilidad basados en estudios previos.  \n",
    "a) Especifique cuál es la variable aleatoria y grafique su espacio\n",
    "de probabilidad.  \n",
    "b) Genere 5 muestra aleatoria con esa distribución, cada una de\n",
    "ellas con tamaño n=10, n=100, n=1000, n=5000, n =10000  \n",
    "c) Realice el paso anterior varias veces y describa sus observaciones\n"
   ]
  },
  {
   "cell_type": "markdown",
   "metadata": {},
   "source": [
    "Solucion "
   ]
  },
  {
   "cell_type": "markdown",
   "metadata": {},
   "source": [
    "Seleccione la cantidad de empresas por estado. El resultado del INEGI y la base de datos de la Secretaria de Economia."
   ]
  },
  {
   "cell_type": "markdown",
   "metadata": {},
   "source": [
    "<img src=\"28-03--2022_15-22-44_INEGI.jpg\">"
   ]
  },
  {
   "cell_type": "markdown",
   "metadata": {},
   "source": [
    "inciso a)"
   ]
  },
  {
   "cell_type": "markdown",
   "metadata": {},
   "source": [
    "La variable aleatoria es la cantidad de empresas por estado"
   ]
  },
  {
   "cell_type": "markdown",
   "metadata": {},
   "source": [
    "La **definición matemática del espacio de probabilidad** esta dada por tres elementos\n",
    "\n",
    "- **Espacio muestral (Ω).**\n",
    "- **Espacio de eventos (ℱ).**\n",
    "- **La medida de probabilidad (P)**."
   ]
  },
  {
   "cell_type": "markdown",
   "metadata": {},
   "source": [
    "P(E) = |E| / |Ω|\n",
    "\n",
    "P(E) = medida de probabilidad del evento (E).\n",
    "\n",
    "|E| = cardinalidad del evento, es decir, el numero de elementos del conjunto.\n",
    "\n",
    "|Ω| = cardinalidad del espacio muestral."
   ]
  },
  {
   "cell_type": "markdown",
   "metadata": {},
   "source": [
    "************************************************************************************************\n",
    "************************************************************************************************\n",
    "************************************************************************************************"
   ]
  },
  {
   "cell_type": "markdown",
   "metadata": {},
   "source": [
    "8. \n",
    "a) En el ejercicio anterior genere 500 muestras de tamaño 200  \n",
    "b) Grafique la distribución de al menos 3 muestras  \n",
    "c) Calcule la media de cada una de las 500 muestras y grafique\n",
    "su distribución (distribución de los promedios de la muestra)  \n",
    "d) Describa sus observaciones"
   ]
  },
  {
   "cell_type": "markdown",
   "metadata": {},
   "source": [
    "************************************************************************************************\n",
    "************************************************************************************************\n",
    "************************************************************************************************"
   ]
  },
  {
   "cell_type": "markdown",
   "metadata": {},
   "source": [
    "9. Con los datos anteriores:  \n",
    "a) Calcule el intervalo de confianza de la décima muestra para\n",
    "un nivel de confianza de 95 porciento  \n",
    "b) Genera una muestra más pero ahora de tamaño 400  \n",
    "c) Calcule el intervalo de confianza para un nivel de confianza de\n",
    "95 porciento  \n",
    "d) Explique sus observaciones"
   ]
  },
  {
   "cell_type": "markdown",
   "metadata": {},
   "source": [
    "************************************************************************************************\n",
    "************************************************************************************************\n",
    "************************************************************************************************"
   ]
  },
  {
   "cell_type": "markdown",
   "metadata": {},
   "source": [
    "10. Calcular el test de Kolmogorov-Smirnov para la adecuación con una\n",
    "distribución gaussiana y una laplace de los retornos de la serie del\n",
    "tiempo del oro."
   ]
  },
  {
   "cell_type": "code",
   "execution_count": null,
   "metadata": {},
   "outputs": [],
   "source": [
    "# Datos\n",
    "# ==============================================================================\n",
    "datos = pd.read_csv('oro.csv')\n",
    "datos['year'] = datos['year'].astype(str) \n",
    "datos.info()"
   ]
  },
  {
   "cell_type": "markdown",
   "metadata": {},
   "source": [
    "************************************************************************************************\n",
    "************************************************************************************************\n",
    "************************************************************************************************"
   ]
  },
  {
   "cell_type": "markdown",
   "metadata": {},
   "source": [
    "11. ¿En las hipótesis de cuál algoritmo de machine learning no se incluye la hipótesis de independencia? ¿Se incluye la de indénticamente\n",
    "distribuido?"
   ]
  },
  {
   "cell_type": "markdown",
   "metadata": {},
   "source": [
    "************************************************************************************************\n",
    "************************************************************************************************\n",
    "************************************************************************************************"
   ]
  },
  {
   "cell_type": "markdown",
   "metadata": {},
   "source": [
    "12. Explicar qué significa este prior."
   ]
  },
  {
   "cell_type": "markdown",
   "metadata": {},
   "source": [
    "Solucion"
   ]
  },
  {
   "cell_type": "markdown",
   "metadata": {},
   "source": [
    "En la inferencia estadística bayesiana, es la probabilidad de un evento antes de que se recolecten nuevos datos. Esta es la mejor evaluación racional de la probabilidad de un resultado basada en el conocimiento actual antes de realizar un experimento."
   ]
  },
  {
   "cell_type": "markdown",
   "metadata": {},
   "source": [
    "Matematicamente"
   ]
  },
  {
   "cell_type": "markdown",
   "metadata": {},
   "source": [
    "Sea Y una variable o un vector aleatorio y β una familia de parámetros,\n",
    "podrían ser los parámetros que definen a una distribución o una función.  \n",
    "Un modelado bayesiano consiste en P\n",
    "( β|Y ) . Donde  \n",
    "P(β | Y) = P(Y | β) P(β)  /  P(Y )  \n",
    "Las cantidades de la ecuación anterior reciben los siguientes\n",
    "nombres:\n",
    "1. A la probabilidad P(β|Y)\n",
    "se le conoce como el posterior.\n",
    "2. A la probabilidad P(Y |β)\n",
    "se le conoce como la verosimilitud .\n",
    "3. A la probabilidad P(β) se le conoce como el prior.\n"
   ]
  }
 ],
 "metadata": {
  "interpreter": {
   "hash": "63fd5069d213b44bf678585dea6b12cceca9941eaf7f819626cde1f2670de90d"
  },
  "kernelspec": {
   "display_name": "Python 3.9.6 64-bit",
   "language": "python",
   "name": "python3"
  },
  "language_info": {
   "codemirror_mode": {
    "name": "ipython",
    "version": 3
   },
   "file_extension": ".py",
   "mimetype": "text/x-python",
   "name": "python",
   "nbconvert_exporter": "python",
   "pygments_lexer": "ipython3",
   "version": "3.9.6"
  },
  "orig_nbformat": 4
 },
 "nbformat": 4,
 "nbformat_minor": 2
}
